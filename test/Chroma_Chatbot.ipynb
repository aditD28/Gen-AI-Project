{
 "cells": [
  {
   "cell_type": "markdown",
   "metadata": {},
   "source": [
    "### **Import Dependencies**"
   ]
  },
  {
   "cell_type": "code",
   "execution_count": 21,
   "metadata": {},
   "outputs": [],
   "source": [
    "import os\n",
    "from semantic_router import Route, RouteLayer\n",
    "from semantic_router.encoders import OpenAIEncoder\n",
    "from langchain.chains.retrieval_qa.base import RetrievalQA\n",
    "from langchain_chroma import Chroma\n",
    "from langchain_community.document_loaders.csv_loader import CSVLoader\n",
    "from langchain_openai import ChatOpenAI, OpenAIEmbeddings\n",
    "from langchain_text_splitters import RecursiveCharacterTextSplitter\n",
    "from langchain.agents import AgentType, initialize_agent, Tool\n",
    "from langchain.memory import ConversationBufferWindowMemory\n",
    "from IPython.display import display, Markdown\n",
    "import pandas as pd"
   ]
  },
  {
   "cell_type": "code",
   "execution_count": 20,
   "metadata": {},
   "outputs": [
    {
     "data": {
      "text/html": [
       "<div>\n",
       "<style scoped>\n",
       "    .dataframe tbody tr th:only-of-type {\n",
       "        vertical-align: middle;\n",
       "    }\n",
       "\n",
       "    .dataframe tbody tr th {\n",
       "        vertical-align: top;\n",
       "    }\n",
       "\n",
       "    .dataframe thead th {\n",
       "        text-align: right;\n",
       "    }\n",
       "</style>\n",
       "<table border=\"1\" class=\"dataframe\">\n",
       "  <thead>\n",
       "    <tr style=\"text-align: right;\">\n",
       "      <th></th>\n",
       "      <th>State</th>\n",
       "      <th>Domain</th>\n",
       "      <th>Sub-Domain</th>\n",
       "      <th>Government Fees (INR)</th>\n",
       "      <th>Documents Required</th>\n",
       "      <th>Eligibility Criteria</th>\n",
       "      <th>State-Specific Variation</th>\n",
       "      <th>Processing Time (Days)</th>\n",
       "    </tr>\n",
       "  </thead>\n",
       "  <tbody>\n",
       "    <tr>\n",
       "      <th>0</th>\n",
       "      <td>Andhra Pradesh</td>\n",
       "      <td>Food</td>\n",
       "      <td>Restaurant</td>\n",
       "      <td>942</td>\n",
       "      <td>Health Clearance;ID Proof;Address Proof;Busine...</td>\n",
       "      <td>Age: 21+; Permanent Residence: Yes; Taxable In...</td>\n",
       "      <td>State residency required</td>\n",
       "      <td>10</td>\n",
       "    </tr>\n",
       "    <tr>\n",
       "      <th>1</th>\n",
       "      <td>Andhra Pradesh</td>\n",
       "      <td>Food</td>\n",
       "      <td>Catering</td>\n",
       "      <td>266</td>\n",
       "      <td>Safety Certificate;Business License</td>\n",
       "      <td>Age: 18+; Permanent Residence: No; Taxable Inc...</td>\n",
       "      <td>Additional certification required</td>\n",
       "      <td>7</td>\n",
       "    </tr>\n",
       "    <tr>\n",
       "      <th>2</th>\n",
       "      <td>Andhra Pradesh</td>\n",
       "      <td>Food</td>\n",
       "      <td>Street Food</td>\n",
       "      <td>474</td>\n",
       "      <td>Address Proof;Tax Registration;ID Proof</td>\n",
       "      <td>Age: 25+; Permanent Residence: No; Taxable Inc...</td>\n",
       "      <td>Additional certification required</td>\n",
       "      <td>17</td>\n",
       "    </tr>\n",
       "    <tr>\n",
       "      <th>3</th>\n",
       "      <td>Andhra Pradesh</td>\n",
       "      <td>Cloth</td>\n",
       "      <td>Boutique</td>\n",
       "      <td>712</td>\n",
       "      <td>Business License;Health Clearance;ID Proof</td>\n",
       "      <td>Age: 21+; Permanent Residence: Yes; Taxable In...</td>\n",
       "      <td>Additional certification required</td>\n",
       "      <td>26</td>\n",
       "    </tr>\n",
       "    <tr>\n",
       "      <th>4</th>\n",
       "      <td>Andhra Pradesh</td>\n",
       "      <td>Cloth</td>\n",
       "      <td>Online Store</td>\n",
       "      <td>587</td>\n",
       "      <td>Address Proof;Safety Certificate;Health Cleara...</td>\n",
       "      <td>Age: 25+; Permanent Residence: Yes; Taxable In...</td>\n",
       "      <td>No specific state variation</td>\n",
       "      <td>11</td>\n",
       "    </tr>\n",
       "  </tbody>\n",
       "</table>\n",
       "</div>"
      ],
      "text/plain": [
       "            State Domain    Sub-Domain  Government Fees (INR)  \\\n",
       "0  Andhra Pradesh   Food    Restaurant                    942   \n",
       "1  Andhra Pradesh   Food      Catering                    266   \n",
       "2  Andhra Pradesh   Food   Street Food                    474   \n",
       "3  Andhra Pradesh  Cloth      Boutique                    712   \n",
       "4  Andhra Pradesh  Cloth  Online Store                    587   \n",
       "\n",
       "                                  Documents Required  \\\n",
       "0  Health Clearance;ID Proof;Address Proof;Busine...   \n",
       "1                Safety Certificate;Business License   \n",
       "2            Address Proof;Tax Registration;ID Proof   \n",
       "3         Business License;Health Clearance;ID Proof   \n",
       "4  Address Proof;Safety Certificate;Health Cleara...   \n",
       "\n",
       "                                Eligibility Criteria  \\\n",
       "0  Age: 21+; Permanent Residence: Yes; Taxable In...   \n",
       "1  Age: 18+; Permanent Residence: No; Taxable Inc...   \n",
       "2  Age: 25+; Permanent Residence: No; Taxable Inc...   \n",
       "3  Age: 21+; Permanent Residence: Yes; Taxable In...   \n",
       "4  Age: 25+; Permanent Residence: Yes; Taxable In...   \n",
       "\n",
       "            State-Specific Variation  Processing Time (Days)  \n",
       "0           State residency required                      10  \n",
       "1  Additional certification required                       7  \n",
       "2  Additional certification required                      17  \n",
       "3  Additional certification required                      26  \n",
       "4        No specific state variation                      11  "
      ]
     },
     "execution_count": 20,
     "metadata": {},
     "output_type": "execute_result"
    }
   ],
   "source": [
    "df = pd.read_csv(\"indian_business_criteria.csv\")\n",
    "df.head(5)"
   ]
  },
  {
   "cell_type": "markdown",
   "metadata": {},
   "source": [
    "### **Load Data**"
   ]
  },
  {
   "cell_type": "code",
   "execution_count": 22,
   "metadata": {},
   "outputs": [
    {
     "name": "stdout",
     "output_type": "stream",
     "text": [
      "Total number of new records loaded: 420\n"
     ]
    }
   ],
   "source": [
    "loader = CSVLoader(file_path='indian_business_criteria.csv')\n",
    "data = loader.load()\n",
    "print(f\"Total number of new records loaded: {len(data)}\")"
   ]
  },
  {
   "cell_type": "markdown",
   "metadata": {},
   "source": [
    "### **OpenAI**"
   ]
  },
  {
   "cell_type": "code",
   "execution_count": 24,
   "metadata": {},
   "outputs": [],
   "source": [
    "os.environ[\"OPENAI_API_KEY\"] = \"API-KEY\"\n",
    "encoder = OpenAIEncoder()\n",
    "embeddings = OpenAIEmbeddings()"
   ]
  },
  {
   "cell_type": "markdown",
   "metadata": {},
   "source": [
    "### **LLM**"
   ]
  },
  {
   "cell_type": "code",
   "execution_count": 25,
   "metadata": {},
   "outputs": [],
   "source": [
    "# Initialize the LLM\n",
    "llm = ChatOpenAI(\n",
    "    model='gpt-4-turbo',\n",
    "    temperature=0.0,\n",
    ")\n",
    "# Create memory instance\n",
    "memory1 = ConversationBufferWindowMemory(\n",
    "    memory_key=\"chat_history\",\n",
    "    k=10,\n",
    "    return_messages=True,\n",
    "    output_key=\"output\"\n",
    ")"
   ]
  },
  {
   "cell_type": "markdown",
   "metadata": {},
   "source": [
    "### **Vectorstore**"
   ]
  },
  {
   "cell_type": "code",
   "execution_count": 26,
   "metadata": {},
   "outputs": [],
   "source": [
    "# Split the data into Chunks (can be omitted for small datasets but useful for larger ones)\n",
    "text_splitter = RecursiveCharacterTextSplitter(chunk_size=1000, chunk_overlap=200)\n",
    "splits = text_splitter.split_documents(data)"
   ]
  },
  {
   "cell_type": "code",
   "execution_count": 27,
   "metadata": {},
   "outputs": [
    {
     "name": "stdout",
     "output_type": "stream",
     "text": [
      "Vector store initialized with 420 documents.\n",
      "Retriever and RetrievalQA initialized.\n"
     ]
    }
   ],
   "source": [
    "def initialize_vectorstore(persist_directory=\"./Chroma\", documents=None, embeddings=None):\n",
    "    if documents:\n",
    "        vstore = Chroma.from_documents(\n",
    "            documents=documents,\n",
    "            embedding=embeddings,\n",
    "            persist_directory=persist_directory\n",
    "        )\n",
    "        print(f\"Vector store initialized with {len(documents)} documents.\")\n",
    "    else:\n",
    "        try:\n",
    "            vstore = Chroma(persist_directory=persist_directory,\n",
    "                            embedding_function=embeddings)\n",
    "            print(\"Loaded existing vector store from disk.\")\n",
    "        except Exception as e:\n",
    "            vstore = None\n",
    "            print(f\"Failed to load vector store from disk: {e}\")\n",
    "    return vstore\n",
    "\n",
    "def initialize_retriever(vstore, llm):\n",
    "    if vstore:\n",
    "        retriever = vstore.as_retriever()\n",
    "        rtvr = RetrievalQA.from_chain_type(\n",
    "            llm=llm,\n",
    "            chain_type=\"stuff\",\n",
    "            retriever=retriever,\n",
    "        )\n",
    "        print(\"Retriever and RetrievalQA initialized.\")\n",
    "    else:\n",
    "        retriever = None\n",
    "        rtvr = None\n",
    "        print(\"Vector store is not initialized. Retriever and RetrievalQA not created.\")\n",
    "    return retriever, rtvr\n",
    "\n",
    "\n",
    "vstore = initialize_vectorstore(\n",
    "    persist_directory=\"./Chroma\", \n",
    "    documents=splits, \n",
    "    embeddings=embeddings\n",
    ")\n",
    "retriever, rtvr = initialize_retriever(vstore, llm)\n",
    "\n",
    "\n",
    "# import tools"
   ]
  },
  {
   "cell_type": "code",
   "execution_count": 28,
   "metadata": {},
   "outputs": [
    {
     "name": "stderr",
     "output_type": "stream",
     "text": [
      "C:\\Users\\adity\\AppData\\Local\\Programs\\Python\\Python312\\Lib\\site-packages\\langchain_core\\_api\\deprecation.py:139: LangChainDeprecationWarning: The method `Chain.__call__` was deprecated in langchain 0.1.0 and will be removed in 0.3.0. Use invoke instead.\n",
      "  warn_deprecated(\n"
     ]
    },
    {
     "data": {
      "text/plain": [
       "{'query': 'what to do to start a resturant in andhrapradesh',\n",
       " 'result': 'To start a restaurant in Andhra Pradesh, you need to follow these steps and meet the specific requirements:\\n\\n1. **Eligibility Criteria:**\\n   - Age: You must be 21 years or older.\\n   - Permanent Residence: You must be a permanent resident of Andhra Pradesh.\\n   - Taxable Income: Your taxable income should be ₹60,000 or more.\\n\\n2. **Documents Required:**\\n   - Health Clearance\\n   - ID Proof\\n   - Address Proof\\n   - Business License\\n\\n3. **Government Fees:**\\n   - You will need to pay a fee of ₹942.\\n\\n4. **Processing Time:**\\n   - The processing time for your application is approximately 10 days.\\n\\nMake sure you have all the required documents and meet the eligibility criteria before applying. This will help ensure a smoother application process for starting your restaurant in Andhra Pradesh.'}"
      ]
     },
     "execution_count": 28,
     "metadata": {},
     "output_type": "execute_result"
    }
   ],
   "source": [
    "rtvr(\"what to do to start a resturant in andhrapradesh\")"
   ]
  },
  {
   "cell_type": "markdown",
   "metadata": {},
   "source": [
    "### **Semantic Routing**"
   ]
  },
  {
   "cell_type": "code",
   "execution_count": 30,
   "metadata": {},
   "outputs": [],
   "source": [
    "chit_chat_route = Route(\n",
    "    name=\"chit_chat\",\n",
    "    utterances=[\n",
    "        \"Good morning! I hope you have a fantastic day ahead.\",\n",
    "        \"Thank you so much for your help yesterday; it made a big difference!\",\n",
    "        \"Hello there! It's great to see you again.\",\n",
    "        \"I really appreciate all the hard work you've put into this project.\",\n",
    "        \"Hi! How have you been? It's been a while.\",\n",
    "        \"Thank you for your prompt response; it was very helpful.\",\n",
    "        \"Welcome to the team! We're excited to have you on board.\",\n",
    "        \"I just wanted to say thank you for always being so supportive.\",\n",
    "        \"Hey! Hope you're doing well. Just wanted to check in.\",\n",
    "        \"Thanks for your patience and understanding throughout this process.\",\n",
    "        \"Goodbye! Have a wonderful evening.\",\n",
    "        \"See you later! Take care.\",\n",
    "        \"Thank you again for everything. Goodbye for now!\",\n",
    "        \"It was great catching up. Bye for now!\",\n",
    "        \"Farewell! Wishing you all the best.\",\n",
    "        \"Take care and see you soon!\",\n",
    "        \"Goodbye! Let’s stay in touch.\",\n",
    "        \"Thanks for your time. Have a good day!\",\n",
    "        \"It’s been a pleasure working with you. Goodbye!\",\n",
    "        \"Catch you later! Have a good one.\",\n",
    "        \"Hey! What's new with you?\",\n",
    "        \"Long time no see! How have you been?\",\n",
    "        \"Good afternoon! How's your day going?\",\n",
    "        \"Hey there! Any plans for the weekend?\",\n",
    "        \"Just wanted to say hi! How are things?\",\n",
    "        \"Hi! It's nice to hear from you.\",\n",
    "        \"Good evening! How was your day?\",\n",
    "        \"Thanks for reaching out! How can I assist you?\",\n",
    "        \"Hope you're having a great day!\",\n",
    "        \"Hi! What's up?\",\n",
    "        \"Hello! How's everything?\",\n",
    "        \"Hey! What's happening?\",\n",
    "        \"Thanks for your help! Have a great day.\",\n",
    "        \"Take it easy! Talk to you soon.\",\n",
    "        \"Have a good one! See you around.\",\n",
    "        \"It's been nice chatting. Take care!\",\n",
    "        \"Stay well! Goodbye for now.\"\n",
    "    ],\n",
    "    keywords=[\n",
    "        \"hello\", \"hi\", \"hey\", \"good morning\", \"good afternoon\", \"good evening\", \"goodbye\",\n",
    "        \"bye\", \"farewell\", \"see you\", \"take care\", \"thanks\", \"thank you\", \"appreciate\", \n",
    "        \"welcome\", \"great\", \"nice\", \"hope\", \"how\", \"been\", \"catch\", \"stay\", \"later\", \n",
    "        \"evening\", \"day\", \"time\", \"talk\", \"soon\"\n",
    "    ]\n",
    ")"
   ]
  },
  {
   "cell_type": "code",
   "execution_count": 31,
   "metadata": {},
   "outputs": [],
   "source": [
    "routes = [\n",
    "    chit_chat_route\n",
    "]\n",
    "\n",
    "rl = RouteLayer(\n",
    "    encoder=encoder,\n",
    "    routes=routes\n",
    ")\n"
   ]
  },
  {
   "cell_type": "code",
   "execution_count": 37,
   "metadata": {},
   "outputs": [],
   "source": [
    "def chit_chat():\n",
    "    return (\n",
    "        \"If the user greets you, politely greet them back. \"\n",
    "        \"If the user thanks you, acknowledge their thanks politely.\"\n",
    "    )\n",
    "\n",
    "def general():\n",
    "    return (\n",
    "        \"Please provide responses based solely on the context provided.\"\n",
    "        \"Do not include any additional information or context outside of what is given.\"\n",
    "    )"
   ]
  },
  {
   "cell_type": "markdown",
   "metadata": {},
   "source": [
    "### **Agent**"
   ]
  },
  {
   "cell_type": "code",
   "execution_count": 38,
   "metadata": {},
   "outputs": [],
   "source": [
    "tools = [\n",
    "    Tool(\n",
    "        name=\"QA System\",\n",
    "        func=rtvr.run,\n",
    "        description=(\n",
    "            \"Useful for answering questions about the process of starting a business in various cities, \"\n",
    "            \"things to do, and more in specific cities. Specify the city and the query.\"\n",
    "        ),\n",
    "    ),\n",
    "]"
   ]
  },
  {
   "cell_type": "code",
   "execution_count": 39,
   "metadata": {},
   "outputs": [],
   "source": [
    "# Initialize Agent\n",
    "agent = initialize_agent(\n",
    "    agent=AgentType.CHAT_CONVERSATIONAL_REACT_DESCRIPTION,\n",
    "    tools=tools,\n",
    "    llm=llm,\n",
    "    max_iterations=3,\n",
    "    early_stopping_method=\"generate\",\n",
    "    memory=memory1,\n",
    ")"
   ]
  },
  {
   "cell_type": "code",
   "execution_count": 40,
   "metadata": {},
   "outputs": [],
   "source": [
    "# update the system prompt\n",
    "system_message = \"\"\"You are a business assistant, helping users in their initiative to setup new business.\n",
    "Maintain a friendly and pleasant attitude at all times. Use positive language and avoid any criticism of the company or its services.\n",
    "Pay close attention to the SYSTEM NOTES provided with user queries.\n",
    "For every query the user makes, you MUST search the database first.\n",
    "ONLY provide answers with the given context.\n",
    "These notes contain useful information to enhance your responses and assist you with the user's specific needs and preferences.\n",
    "\"\"\"\n",
    "new_prompt = agent.agent.create_prompt(\n",
    "    system_message=system_message, \n",
    "    tools=tools,\n",
    ")\n",
    "agent.agent.llm_chain.prompt = new_prompt"
   ]
  },
  {
   "cell_type": "code",
   "execution_count": 41,
   "metadata": {},
   "outputs": [],
   "source": [
    "def test(prompt):\n",
    "    route = rl(prompt)\n",
    "    query = prompt\n",
    "    \n",
    "    if route.name == \"chit_chat\":\n",
    "        query += f\" (SYSTEM NOTE: {chit_chat()})\"\n",
    "        result = agent.invoke(query)['output']\n",
    "        return result\n",
    "    \n",
    "    else:\n",
    "        query += f\" (SYSTEM NOTE: {general()})\"\n",
    "        result = agent.invoke(query)['output']\n",
    "        return result"
   ]
  },
  {
   "cell_type": "markdown",
   "metadata": {},
   "source": [
    "## **Testing**"
   ]
  },
  {
   "cell_type": "code",
   "execution_count": 42,
   "metadata": {},
   "outputs": [
    {
     "data": {
      "text/markdown": [
       "To start a restaurant in Andhra Pradesh, you need to meet the eligibility criteria, gather required documents such as health clearance, ID proof, address proof, and business license, pay the government fee of ₹942, and submit the application. The processing time is approximately 10 days. After approval, ensure compliance with local health and safety regulations."
      ],
      "text/plain": [
       "<IPython.core.display.Markdown object>"
      ]
     },
     "metadata": {},
     "output_type": "display_data"
    }
   ],
   "source": [
    "responce = test(\"what to do to start a resturant in andhrapradesh\")\n",
    "display(Markdown(responce))"
   ]
  },
  {
   "cell_type": "code",
   "execution_count": 43,
   "metadata": {},
   "outputs": [
    {
     "data": {
      "text/markdown": [
       "Hello! How can I assist you today?"
      ],
      "text/plain": [
       "<IPython.core.display.Markdown object>"
      ]
     },
     "metadata": {},
     "output_type": "display_data"
    }
   ],
   "source": [
    "responce = test(\"hi\")\n",
    "display(Markdown(responce))"
   ]
  },
  {
   "cell_type": "code",
   "execution_count": 44,
   "metadata": {},
   "outputs": [
    {
     "data": {
      "text/markdown": [
       "Your first question was about what to do to start a restaurant in Andhra Pradesh."
      ],
      "text/plain": [
       "<IPython.core.display.Markdown object>"
      ]
     },
     "metadata": {},
     "output_type": "display_data"
    }
   ],
   "source": [
    "responce = test(\"what was my first question\")\n",
    "display(Markdown(responce))"
   ]
  },
  {
   "cell_type": "code",
   "execution_count": 45,
   "metadata": {},
   "outputs": [
    {
     "data": {
      "text/markdown": [
       "I'm here to assist with business-related queries. Please let me know if you have any questions regarding starting or managing a business!"
      ],
      "text/plain": [
       "<IPython.core.display.Markdown object>"
      ]
     },
     "metadata": {},
     "output_type": "display_data"
    }
   ],
   "source": [
    "responce = test(\"who is the current primemenester of india\")\n",
    "display(Markdown(responce))"
   ]
  },
  {
   "cell_type": "code",
   "execution_count": 46,
   "metadata": {},
   "outputs": [
    {
     "data": {
      "text/markdown": [
       "I'm here to assist with business-related queries. Please let me know if you have any questions regarding starting or managing a business!"
      ],
      "text/plain": [
       "<IPython.core.display.Markdown object>"
      ]
     },
     "metadata": {},
     "output_type": "display_data"
    }
   ],
   "source": [
    "responce = test(\"the current primemenester of india is narendra modi\")\n",
    "display(Markdown(responce))"
   ]
  },
  {
   "cell_type": "code",
   "execution_count": 47,
   "metadata": {},
   "outputs": [
    {
     "data": {
      "text/markdown": [
       "I'm here to assist with business-related queries. Please let me know if you have any questions regarding starting or managing a business!"
      ],
      "text/plain": [
       "<IPython.core.display.Markdown object>"
      ]
     },
     "metadata": {},
     "output_type": "display_data"
    }
   ],
   "source": [
    "responce = test(\"who is the current primemenester of india\")\n",
    "display(Markdown(responce))"
   ]
  },
  {
   "cell_type": "code",
   "execution_count": null,
   "metadata": {},
   "outputs": [],
   "source": []
  }
 ],
 "metadata": {
  "kernelspec": {
   "display_name": "Python 3 (ipykernel)",
   "language": "python",
   "name": "python3"
  },
  "language_info": {
   "codemirror_mode": {
    "name": "ipython",
    "version": 3
   },
   "file_extension": ".py",
   "mimetype": "text/x-python",
   "name": "python",
   "nbconvert_exporter": "python",
   "pygments_lexer": "ipython3",
   "version": "3.12.3"
  }
 },
 "nbformat": 4,
 "nbformat_minor": 4
}
